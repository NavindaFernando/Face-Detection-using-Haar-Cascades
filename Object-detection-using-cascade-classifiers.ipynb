{
 "cells": [
  {
   "cell_type": "markdown",
   "id": "1d2cd061",
   "metadata": {},
   "source": [
    "### Detecting the face in an image"
   ]
  },
  {
   "cell_type": "code",
   "execution_count": 29,
   "id": "d9c3dd70",
   "metadata": {},
   "outputs": [],
   "source": [
    "import cv2\n",
    "\n",
    "img = cv2.imread('sample/face.jpg') # load image\n",
    "\n",
    "gray=cv2.cvtColor(img,cv2.COLOR_BGR2GRAY) # conver color to gray image (frames)\n",
    "face_clsfr = cv2.CascadeClassifier('cascades\\Face & Eyes\\haarcascade_frontalface_default.xml') # load a cascade classifier\n",
    "\n",
    "faces = face_clsfr.detectMultiScale(gray,1.3,5) # detection for objects\n",
    "\n",
    "# go to one by one faces\n",
    "for face in faces:\n",
    "    \n",
    "    x = face[0]\n",
    "    y = face[1]\n",
    "    w = face[2]\n",
    "    h = face[3]\n",
    "    \n",
    "    cv2.rectangle(img,(x,y),(x+w,y+h),(0,255,0),2) # drow rectangle\n",
    "\n",
    "cv2.imshow('IMG',img) # show image\n",
    "cv2.waitKey(0)\n",
    "cv2.destroyAllWindows()\n"
   ]
  },
  {
   "cell_type": "markdown",
   "id": "718ebbd0",
   "metadata": {},
   "source": [
    "### Detecting the face in a video"
   ]
  },
  {
   "cell_type": "code",
   "execution_count": 30,
   "id": "732c83d3",
   "metadata": {},
   "outputs": [],
   "source": [
    "import cv2\n",
    "\n",
    "face_clsfr = cv2.CascadeClassifier('cascades\\Face & Eyes\\haarcascade_frontalface_default.xml') # load a cascade classifier\n",
    "\n",
    "source = cv2.VideoCapture('sample/facevideo.mp4') # load a video\n",
    "\n",
    "while(True):\n",
    "    \n",
    "    ret,img = source.read() # read frame by frame in video\n",
    "    gray=cv2.cvtColor(img,cv2.COLOR_BGR2GRAY) # conver color video to gray video (frames)\n",
    "    faces = face_clsfr.detectMultiScale(gray,1.3,5) # detection for objects (faces)\n",
    "    \n",
    "    # go to one by one faces\n",
    "    for face in faces:\n",
    "    \n",
    "        x = face[0]\n",
    "        y = face[1]\n",
    "        w = face[2]\n",
    "        h = face[3]\n",
    "\n",
    "        cv2.rectangle(img,(x,y),(x+w,y+h),(0,255,0),2) # drow rectangle\n",
    "        cv2.putText(img,'FACE',(x,y-10),cv2.FONT_HERSHEY_SIMPLEX,0.5,(0,255,0),2) # drowing text\n",
    "    \n",
    "    cv2.imshow('LIVE',img) # show video (frame by frame)\n",
    "    key=cv2.waitKey(1)\n",
    "    \n",
    "    # get ASCII value\n",
    "    if(key==27):\n",
    "        break\n",
    "        \n",
    "cv2.destroyAllWindows()\n",
    "source.release()"
   ]
  },
  {
   "cell_type": "markdown",
   "id": "a64d5b1e",
   "metadata": {},
   "source": [
    "### Identifying eyes"
   ]
  },
  {
   "cell_type": "code",
   "execution_count": 31,
   "id": "1f1795a0",
   "metadata": {},
   "outputs": [],
   "source": [
    "import cv2\n",
    "\n",
    "face_clsfr = cv2.CascadeClassifier('cascades\\Face & Eyes\\haarcascade_frontalface_default.xml') # load a cascade classifier (face detection)\n",
    "eye_clsfr = cv2.CascadeClassifier('cascades\\Face & Eyes\\haarcascade_eye_tree_eyeglasses.xml') # load a cascade classifier (eye detection)\n",
    "\n",
    "source = cv2.VideoCapture('sample/facevideo.mp4') # load a video\n",
    "\n",
    "while(True):\n",
    "    \n",
    "    ret,img = source.read() # read frame by frame in video\n",
    "    gray=cv2.cvtColor(img,cv2.COLOR_BGR2GRAY) # conver color video to gray video (frames)\n",
    "    faces = face_clsfr.detectMultiScale(gray,1.3,5) # detection for objects (faces)\n",
    "\n",
    "    # go to one by one faces\n",
    "    for face in faces:\n",
    "    \n",
    "        x = face[0]\n",
    "        y = face[1]\n",
    "        w = face[2]\n",
    "        h = face[3]\n",
    "\n",
    "        cv2.rectangle(img,(x,y),(x+w,y+h),(0,255,0),2) # drow rectangle\n",
    "        cv2.putText(img,'FACE',(x,y-10),cv2.FONT_HERSHEY_SIMPLEX,0.5,(0,255,0),2) # drowing text\n",
    "\n",
    "        face_img = gray[y:y+w,x:x+w] # crop to face in gray image\n",
    "        \n",
    "        eyes = eye_clsfr.detectMultiScale(face_img) # if there are eyes in the cropped image, it will be detected\n",
    "        \n",
    "        # go to one by one eyes\n",
    "        for(ex,ey,ew,eh) in eyes:\n",
    "            \n",
    "            cv2.rectangle(img,(x+ex,y+ey),(x+ex+ew,y+ey+eh),(255,0,0),2) #draw a rectangle\n",
    "            cv2.putText(img,'EYES',(x+ex,y+ey-10),cv2.FONT_HERSHEY_SIMPLEX,0.5,(255,0,0),2)\n",
    "        \n",
    "    cv2.imshow('LIVE',img) # show video (frame by frame)\n",
    "    key=cv2.waitKey(1)\n",
    "    \n",
    "    # get ASCII value\n",
    "    if(key==27):\n",
    "        break\n",
    "        \n",
    "cv2.destroyAllWindows()\n",
    "source.release()"
   ]
  },
  {
   "cell_type": "code",
   "execution_count": null,
   "id": "9141816a",
   "metadata": {},
   "outputs": [],
   "source": []
  }
 ],
 "metadata": {
  "kernelspec": {
   "display_name": "Python 3 (ipykernel)",
   "language": "python",
   "name": "python3"
  },
  "language_info": {
   "codemirror_mode": {
    "name": "ipython",
    "version": 3
   },
   "file_extension": ".py",
   "mimetype": "text/x-python",
   "name": "python",
   "nbconvert_exporter": "python",
   "pygments_lexer": "ipython3",
   "version": "3.10.9"
  }
 },
 "nbformat": 4,
 "nbformat_minor": 5
}
